{
 "cells": [
  {
   "cell_type": "code",
   "execution_count": 1,
   "id": "caa16ee4-e08b-429b-865b-446fffdf0124",
   "metadata": {},
   "outputs": [
    {
     "name": "stdout",
     "output_type": "stream",
     "text": [
      "Python: 3.12.4 | packaged by Anaconda, Inc. | (main, Jun 18 2024, 15:03:56) [MSC v.1929 64 bit (AMD64)]\n",
      "pandas: 2.3.0\n",
      "DEFAULT_SAMPLE: C:\\Users\\Daniel\\Projects\\linkedin-job-market-analysis\\data\\sample_jobs.csv\n"
     ]
    },
    {
     "data": {
      "text/html": [
       "<div>\n",
       "<style scoped>\n",
       "    .dataframe tbody tr th:only-of-type {\n",
       "        vertical-align: middle;\n",
       "    }\n",
       "\n",
       "    .dataframe tbody tr th {\n",
       "        vertical-align: top;\n",
       "    }\n",
       "\n",
       "    .dataframe thead th {\n",
       "        text-align: right;\n",
       "    }\n",
       "</style>\n",
       "<table border=\"1\" class=\"dataframe\">\n",
       "  <thead>\n",
       "    <tr style=\"text-align: right;\">\n",
       "      <th></th>\n",
       "      <th>job_id</th>\n",
       "      <th>title</th>\n",
       "      <th>company</th>\n",
       "      <th>location</th>\n",
       "      <th>posted_date</th>\n",
       "      <th>skills</th>\n",
       "      <th>pay_high</th>\n",
       "      <th>pay_low</th>\n",
       "    </tr>\n",
       "  </thead>\n",
       "  <tbody>\n",
       "    <tr>\n",
       "      <th>1</th>\n",
       "      <td>Data Scientist</td>\n",
       "      <td>ExampleCorp</td>\n",
       "      <td>Washington</td>\n",
       "      <td>DC</td>\n",
       "      <td>2024-05-10</td>\n",
       "      <td>Python; SQL; ML</td>\n",
       "      <td>170000</td>\n",
       "      <td>130000.0</td>\n",
       "    </tr>\n",
       "    <tr>\n",
       "      <th>2</th>\n",
       "      <td>Business Intelligence Engineer</td>\n",
       "      <td>ExampleCorp</td>\n",
       "      <td>Arlington</td>\n",
       "      <td>VA</td>\n",
       "      <td>2024-06-01</td>\n",
       "      <td>SQL; Tableau; ETL</td>\n",
       "      <td>150000</td>\n",
       "      <td>115000.0</td>\n",
       "    </tr>\n",
       "    <tr>\n",
       "      <th>3</th>\n",
       "      <td>Data Analyst</td>\n",
       "      <td>ExampleCorp</td>\n",
       "      <td>Remote</td>\n",
       "      <td>2024-06-15</td>\n",
       "      <td>Excel; SQL; Power BI</td>\n",
       "      <td>120000</td>\n",
       "      <td>90000</td>\n",
       "      <td>NaN</td>\n",
       "    </tr>\n",
       "    <tr>\n",
       "      <th>4</th>\n",
       "      <td>Machine Learning Engineer</td>\n",
       "      <td>ExampleCorp</td>\n",
       "      <td>New York</td>\n",
       "      <td>NY</td>\n",
       "      <td>2024-07-01</td>\n",
       "      <td>Python; TensorFlow; AWS</td>\n",
       "      <td>185000</td>\n",
       "      <td>150000.0</td>\n",
       "    </tr>\n",
       "    <tr>\n",
       "      <th>5</th>\n",
       "      <td>Energy Analyst</td>\n",
       "      <td>ExampleCorp</td>\n",
       "      <td>Austin</td>\n",
       "      <td>TX</td>\n",
       "      <td>2024-05-22</td>\n",
       "      <td>Excel; SQL; Energy Markets</td>\n",
       "      <td>130000</td>\n",
       "      <td>100000.0</td>\n",
       "    </tr>\n",
       "  </tbody>\n",
       "</table>\n",
       "</div>"
      ],
      "text/plain": [
       "                           job_id        title     company    location  \\\n",
       "1                  Data Scientist  ExampleCorp  Washington          DC   \n",
       "2  Business Intelligence Engineer  ExampleCorp   Arlington          VA   \n",
       "3                    Data Analyst  ExampleCorp      Remote  2024-06-15   \n",
       "4       Machine Learning Engineer  ExampleCorp    New York          NY   \n",
       "5                  Energy Analyst  ExampleCorp      Austin          TX   \n",
       "\n",
       "            posted_date                      skills  pay_high   pay_low  \n",
       "1            2024-05-10             Python; SQL; ML    170000  130000.0  \n",
       "2            2024-06-01           SQL; Tableau; ETL    150000  115000.0  \n",
       "3  Excel; SQL; Power BI                      120000     90000       NaN  \n",
       "4            2024-07-01     Python; TensorFlow; AWS    185000  150000.0  \n",
       "5            2024-05-22  Excel; SQL; Energy Markets    130000  100000.0  "
      ]
     },
     "execution_count": 1,
     "metadata": {},
     "output_type": "execute_result"
    }
   ],
   "source": [
    "import sys, pandas as pd, numpy as np, matplotlib.pyplot as plt\n",
    "from pathlib import Path\n",
    "import os, sys as _sys\n",
    "\n",
    "PROJECT_ROOT = Path.cwd().parent if Path.cwd().name == \"notebooks\" else Path.cwd()\n",
    "_sys.path.insert(0, str(PROJECT_ROOT / \"src\"))\n",
    "\n",
    "from data_loader import load_sample, DEFAULT_SAMPLE\n",
    "\n",
    "print(\"Python:\", sys.version)\n",
    "print(\"pandas:\", pd.__version__)\n",
    "print(\"DEFAULT_SAMPLE:\", DEFAULT_SAMPLE)\n",
    "\n",
    "df = load_sample()\n",
    "df.head()\n"
   ]
  },
  {
   "cell_type": "code",
   "execution_count": 3,
   "id": "5b8816f8-b7cf-4053-9e95-e5ee7ecabd9e",
   "metadata": {},
   "outputs": [
    {
     "data": {
      "image/png": "[encoded data removed]",
      "text/plain": [
       "<Figure size 600x300 with 1 Axes>"
      ]
     },
     "metadata": {},
     "output_type": "display_data"
    }
   ],
   "source": [
    "ax = (df.groupby(\"location\")[\"job_id\"].count()\n",
    "        .sort_values(ascending=False)\n",
    "        .plot(kind=\"bar\", figsize=(6,3)))\n",
    "ax.set_title(\"Postings by Location (sample)\")\n",
    "ax.set_ylabel(\"# jobs\")\n",
    "plt.tight_layout()\n",
    "plt.show()\n"
   ]
  },
  {
   "cell_type": "code",
   "execution_count": null,
   "id": "771dec34-8452-4466-a499-93e7562810e2",
   "metadata": {},
   "outputs": [],
   "source": []
  }
 ],
 "metadata": {
  "kernelspec": {
   "display_name": "Python 3 (ipykernel)",
   "language": "python",
   "name": "python3"
  },
  "language_info": {
   "codemirror_mode": {
    "name": "ipython",
    "version": 3
   },
   "file_extension": ".py",
   "mimetype": "text/x-python",
   "name": "python",
   "nbconvert_exporter": "python",
   "pygments_lexer": "ipython3",
   "version": "3.12.4"
  }
 },
 "nbformat": 4,
 "nbformat_minor": 5
}
